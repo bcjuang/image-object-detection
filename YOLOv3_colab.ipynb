{
  "nbformat": 4,
  "nbformat_minor": 0,
  "metadata": {
    "colab": {
      "name": "YOLOv3_colab.ipynb",
      "provenance": [],
      "collapsed_sections": [],
      "authorship_tag": "ABX9TyPer1HyASQUAGq2sj9SI8WQ",
      "include_colab_link": true
    },
    "kernelspec": {
      "name": "python3",
      "display_name": "Python 3"
    },
    "accelerator": "GPU"
  },
  "cells": [
    {
      "cell_type": "markdown",
      "metadata": {
        "id": "view-in-github",
        "colab_type": "text"
      },
      "source": [
        "<a href=\"https://colab.research.google.com/github/bcjuang/image-object-detection/blob/main/YOLOv3_colab.ipynb\" target=\"_parent\"><img src=\"https://colab.research.google.com/assets/colab-badge.svg\" alt=\"Open In Colab\"/></a>"
      ]
    },
    {
      "cell_type": "code",
      "metadata": {
        "id": "mFFrB_U6lY3O",
        "outputId": "9a437d25-0c60-4a39-cb7c-8a0decf18825",
        "colab": {
          "base_uri": "https://localhost:8080/"
        }
      },
      "source": [
        "from google.colab import drive\n",
        "drive.mount('/content/gdrive')"
      ],
      "execution_count": 1,
      "outputs": [
        {
          "output_type": "stream",
          "text": [
            "Drive already mounted at /content/gdrive; to attempt to forcibly remount, call drive.mount(\"/content/gdrive\", force_remount=True).\n"
          ],
          "name": "stdout"
        }
      ]
    },
    {
      "cell_type": "code",
      "metadata": {
        "id": "yMRx97kg88S7",
        "outputId": "3f53fd74-d19a-4d9e-814d-126609d39e56",
        "colab": {
          "base_uri": "https://localhost:8080/"
        }
      },
      "source": [
        "% cd gdrive/My Drive/bcj_projects/"
      ],
      "execution_count": 2,
      "outputs": [
        {
          "output_type": "stream",
          "text": [
            "/content/gdrive/My Drive/bcj_projects\n"
          ],
          "name": "stdout"
        }
      ]
    },
    {
      "cell_type": "code",
      "metadata": {
        "id": "Qqp37LLm9HDA",
        "outputId": "415ac28e-11c9-41ec-fae1-b2b5582808ff",
        "colab": {
          "base_uri": "https://localhost:8080/"
        }
      },
      "source": [
        "!git clone https://github.com/bcjuang/image-object-detection.git"
      ],
      "execution_count": 3,
      "outputs": [
        {
          "output_type": "stream",
          "text": [
            "Cloning into 'image-object-detection'...\n",
            "remote: Enumerating objects: 6, done.\u001b[K\n",
            "remote: Counting objects: 100% (6/6), done.\u001b[K\n",
            "remote: Compressing objects: 100% (3/3), done.\u001b[K\n",
            "remote: Total 6 (delta 0), reused 0 (delta 0), pack-reused 0\u001b[K\n",
            "Unpacking objects: 100% (6/6), done.\n"
          ],
          "name": "stdout"
        }
      ]
    },
    {
      "cell_type": "code",
      "metadata": {
        "id": "eYvYM9C06uPB"
      },
      "source": [
        "!git clone https://github.com/ultralytics/yolov3"
      ],
      "execution_count": null,
      "outputs": []
    },
    {
      "cell_type": "code",
      "metadata": {
        "id": "hScqeP-KmfLM"
      },
      "source": [
        "import numpy as np\n",
        "import pandas as pd\n",
        "import tensorflow as tf\n",
        "import time\n",
        "import glob\n",
        "import torch\n",
        "import os"
      ],
      "execution_count": 13,
      "outputs": []
    },
    {
      "cell_type": "code",
      "metadata": {
        "id": "X78SZ3ZLnKEL",
        "outputId": "ecc9725a-d9f4-4a38-cf06-7115bca171e4",
        "colab": {
          "base_uri": "https://localhost:8080/"
        }
      },
      "source": [
        "print(tf.__version__)\n",
        "tf.test.gpu_device_name()\n",
        "print(\"Num GPUs Available: \", len(tf.config.experimental.list_physical_devices('GPU')))\n",
        "print('List_physcical_devices:', tf.config.experimental.list_physical_devices('GPU'))"
      ],
      "execution_count": 14,
      "outputs": [
        {
          "output_type": "stream",
          "text": [
            "2.3.0\n",
            "Num GPUs Available:  1\n",
            "List_physcical_devices: [PhysicalDevice(name='/physical_device:GPU:0', device_type='GPU')]\n"
          ],
          "name": "stdout"
        }
      ]
    },
    {
      "cell_type": "code",
      "metadata": {
        "id": "st-3nVskfI5H",
        "outputId": "fbb89716-e649-4340-f10b-d019edb340d8",
        "colab": {
          "base_uri": "https://localhost:8080/",
          "height": 368
        }
      },
      "source": [
        "import argparse\n",
        "from sys import platform\n",
        "\n",
        "from models import *\n",
        "from utils.datasets import *\n",
        "from utils.utils import *\n",
        "\n",
        "from IPython.display import HTML\n",
        "from base64 import b64encode"
      ],
      "execution_count": 15,
      "outputs": [
        {
          "output_type": "error",
          "ename": "ModuleNotFoundError",
          "evalue": "ignored",
          "traceback": [
            "\u001b[0;31m---------------------------------------------------------------------------\u001b[0m",
            "\u001b[0;31mModuleNotFoundError\u001b[0m                       Traceback (most recent call last)",
            "\u001b[0;32m<ipython-input-15-56c2b76e7dfb>\u001b[0m in \u001b[0;36m<module>\u001b[0;34m()\u001b[0m\n\u001b[1;32m      2\u001b[0m \u001b[0;32mfrom\u001b[0m \u001b[0msys\u001b[0m \u001b[0;32mimport\u001b[0m \u001b[0mplatform\u001b[0m\u001b[0;34m\u001b[0m\u001b[0;34m\u001b[0m\u001b[0m\n\u001b[1;32m      3\u001b[0m \u001b[0;34m\u001b[0m\u001b[0m\n\u001b[0;32m----> 4\u001b[0;31m \u001b[0;32mfrom\u001b[0m \u001b[0mmodels\u001b[0m \u001b[0;32mimport\u001b[0m \u001b[0;34m*\u001b[0m\u001b[0;34m\u001b[0m\u001b[0;34m\u001b[0m\u001b[0m\n\u001b[0m\u001b[1;32m      5\u001b[0m \u001b[0;32mfrom\u001b[0m \u001b[0mutils\u001b[0m\u001b[0;34m.\u001b[0m\u001b[0mdatasets\u001b[0m \u001b[0;32mimport\u001b[0m \u001b[0;34m*\u001b[0m\u001b[0;34m\u001b[0m\u001b[0;34m\u001b[0m\u001b[0m\n\u001b[1;32m      6\u001b[0m \u001b[0;32mfrom\u001b[0m \u001b[0mutils\u001b[0m\u001b[0;34m.\u001b[0m\u001b[0mutils\u001b[0m \u001b[0;32mimport\u001b[0m \u001b[0;34m*\u001b[0m\u001b[0;34m\u001b[0m\u001b[0;34m\u001b[0m\u001b[0m\n",
            "\u001b[0;31mModuleNotFoundError\u001b[0m: No module named 'models'",
            "",
            "\u001b[0;31m---------------------------------------------------------------------------\u001b[0;32m\nNOTE: If your import is failing due to a missing package, you can\nmanually install dependencies using either !pip or !apt.\n\nTo view examples of installing some common dependencies, click the\n\"Open Examples\" button below.\n\u001b[0;31m---------------------------------------------------------------------------\u001b[0m\n"
          ]
        }
      ]
    },
    {
      "cell_type": "code",
      "metadata": {
        "id": "tJaYI5qGm0LP",
        "outputId": "df77a53d-c22a-4a33-92dc-ac8d3ef1c6d5",
        "colab": {
          "base_uri": "https://localhost:8080/",
          "height": 232
        }
      },
      "source": [
        "# load dataset\n",
        "(X_train, y_train), (X_test, y_test) = cifar10.load_data()\n",
        "print(f'Train: X={X_train.shape}, y={y_train.shape}')\n",
        "print(f'Test: XX={X_test.shape}, y={y_test.shape}')\n",
        "y_train = utils.to_categorical(y_train)\n",
        "y_test = utils.to_categorical(y_test)\n",
        "\n",
        "X_train = X_train.astype('float32')\n",
        "X_test = X_test.astype('float32')\n",
        "\n",
        "train_datagen = ImageDataGenerator(rescale=1. / 255,\n",
        "                                   shear_range=0.2,\n",
        "                                   zoom_range=0.2,\n",
        "                                   horizontal_flip=True)\n",
        "\n",
        "train_datagen.fit(X_train)\n",
        "train_generator = train_datagen.flow(X_train, y_train, batch_size=64)\n",
        "\n",
        "test_datagen = ImageDataGenerator(rescale=1. / 255)\n",
        "validation_generator = test_datagen.flow(X_test, y_test, batch_size=64)"
      ],
      "execution_count": 14,
      "outputs": [
        {
          "output_type": "error",
          "ename": "NameError",
          "evalue": "ignored",
          "traceback": [
            "\u001b[0;31m---------------------------------------------------------------------------\u001b[0m",
            "\u001b[0;31mNameError\u001b[0m                                 Traceback (most recent call last)",
            "\u001b[0;32m<ipython-input-14-8204338c2cbb>\u001b[0m in \u001b[0;36m<module>\u001b[0;34m()\u001b[0m\n\u001b[1;32m      1\u001b[0m \u001b[0;31m# load dataset\u001b[0m\u001b[0;34m\u001b[0m\u001b[0;34m\u001b[0m\u001b[0;34m\u001b[0m\u001b[0m\n\u001b[0;32m----> 2\u001b[0;31m \u001b[0;34m(\u001b[0m\u001b[0mX_train\u001b[0m\u001b[0;34m,\u001b[0m \u001b[0my_train\u001b[0m\u001b[0;34m)\u001b[0m\u001b[0;34m,\u001b[0m \u001b[0;34m(\u001b[0m\u001b[0mX_test\u001b[0m\u001b[0;34m,\u001b[0m \u001b[0my_test\u001b[0m\u001b[0;34m)\u001b[0m \u001b[0;34m=\u001b[0m \u001b[0mcifar10\u001b[0m\u001b[0;34m.\u001b[0m\u001b[0mload_data\u001b[0m\u001b[0;34m(\u001b[0m\u001b[0;34m)\u001b[0m\u001b[0;34m\u001b[0m\u001b[0;34m\u001b[0m\u001b[0m\n\u001b[0m\u001b[1;32m      3\u001b[0m \u001b[0mprint\u001b[0m\u001b[0;34m(\u001b[0m\u001b[0;34mf'Train: X={X_train.shape}, y={y_train.shape}'\u001b[0m\u001b[0;34m)\u001b[0m\u001b[0;34m\u001b[0m\u001b[0;34m\u001b[0m\u001b[0m\n\u001b[1;32m      4\u001b[0m \u001b[0mprint\u001b[0m\u001b[0;34m(\u001b[0m\u001b[0;34mf'Test: XX={X_test.shape}, y={y_test.shape}'\u001b[0m\u001b[0;34m)\u001b[0m\u001b[0;34m\u001b[0m\u001b[0;34m\u001b[0m\u001b[0m\n\u001b[1;32m      5\u001b[0m \u001b[0my_train\u001b[0m \u001b[0;34m=\u001b[0m \u001b[0mutils\u001b[0m\u001b[0;34m.\u001b[0m\u001b[0mto_categorical\u001b[0m\u001b[0;34m(\u001b[0m\u001b[0my_train\u001b[0m\u001b[0;34m)\u001b[0m\u001b[0;34m\u001b[0m\u001b[0;34m\u001b[0m\u001b[0m\n",
            "\u001b[0;31mNameError\u001b[0m: name 'cifar10' is not defined"
          ]
        }
      ]
    },
    {
      "cell_type": "code",
      "metadata": {
        "id": "12Fj7xqhNLxm"
      },
      "source": [
        "# from tensorflow.keras.layers import BatchNormalization, Activation\n",
        "\n",
        "# def vgg_cifar10_dropout_bathnorm(input_shape=(32, 32, 3), dropout_prob=0.2):\n",
        "#     img_input = Input(shape=input_shape)\n",
        "#     # block 1\n",
        "#     x = Conv2D(32, (3, 3), activation=None, padding='same', name='block1_conv1')(img_input)\n",
        "#     x = BatchNormalization()(x)\n",
        "#     x = Activation('relu')(x)\n",
        "#     x = Conv2D(32, (3, 3), activation=None, padding='same', name='block1_conv2')(x)\n",
        "#     x = BatchNormalization()(x)\n",
        "#     x = Activation('relu')(x)\n",
        "#     x = MaxPooling2D((2, 2), name='block1_pool')(x)\n",
        "#     x = Dropout(dropout_prob)(x)\n",
        "#     # block 2\n",
        "#     x = Conv2D(64, (3, 3), activation=None, padding='same', name='block2_conv1')(x)\n",
        "#     x = BatchNormalization()(x)\n",
        "#     x = Activation('relu')(x)\n",
        "#     x = Conv2D(64, (3, 3), activation=None, padding='same', name='block2_conv2')(x)\n",
        "#     x = BatchNormalization()(x)\n",
        "#     x = Activation('relu')(x)\n",
        "#     x = MaxPooling2D((2, 2), name='block2_pool')(x)\n",
        "#     x = Dropout(dropout_prob)(x)\n",
        "#     # block 3\n",
        "#     x = Conv2D(128, (3, 3), activation=None, padding='same', name='block3_conv1')(x)\n",
        "#     x = BatchNormalization()(x)\n",
        "#     x = Activation('relu')(x)\n",
        "#     x = Conv2D(128, (3, 3), activation=None, padding='same', name='block3_conv2')(x)\n",
        "#     # x = Conv2D(128, (3, 3), activation='relu', padding='same', name='block3_conv3')(x)\n",
        "#     x = BatchNormalization()(x)\n",
        "#     x = Activation('relu')(x)\n",
        "#     x = MaxPooling2D((2, 2), name='block3_pool')(x)\n",
        "#     x = Dropout(dropout_prob)(x)\n",
        "#     # classification layers\n",
        "#     x = Flatten()(x)\n",
        "#     x = Dense(128, activation='relu', name='fc1')(x)\n",
        "#     x = Dropout(dropout_prob)(x)\n",
        "#     x_output = Dense(10, activation='softmax', name='fc2')(x)\n",
        "\n",
        "#     model = Model(img_input, x_output)\n",
        "#     model.compile(loss='categorical_crossentropy',\n",
        "#                   optimizer=optimizers.SGD(lr=1e-3, momentum=0.9),\n",
        "#                   metrics=['accuracy'])\n",
        "#     return model"
      ],
      "execution_count": null,
      "outputs": []
    },
    {
      "cell_type": "code",
      "metadata": {
        "id": "Z2xCOUCvokJR"
      },
      "source": [
        "EPOCH = 100\n",
        "# save_model = False\n",
        "model_name = f'cifar10_vgg8_model_base_lr1e-4_ep{EPOCH}_bcj'\n",
        "model = vgg_cifar10_base(input_shape=(32, 32, 3),)\n",
        "# model = vgg_cifar10_dropout(input_shape=(32, 32, 3), dropout_prob=0.2)\n",
        "# model = vgg_cifar10_dropout_bathnorm(input_shape=(32, 32, 3), dropout_prob=0.2)"
      ],
      "execution_count": null,
      "outputs": []
    },
    {
      "cell_type": "code",
      "metadata": {
        "id": "ADzXH_HymSO3"
      },
      "source": [
        ""
      ],
      "execution_count": null,
      "outputs": []
    },
    {
      "cell_type": "code",
      "metadata": {
        "id": "KvjuFh4RnTxC",
        "outputId": "90fceab7-f2a6-401f-9b70-fa7f172e7fd1",
        "colab": {
          "base_uri": "https://localhost:8080/",
          "height": 1000
        }
      },
      "source": [
        "history = model.fit(train_generator,z\n",
        "                    verbose=1,\n",
        "                    epochs=EPOCH,\n",
        "                    validation_data=validation_generator)\n",
        "hist = pd.DataFrame(history.history)"
      ],
      "execution_count": null,
      "outputs": [
        {
          "output_type": "stream",
          "text": [
            "Epoch 1/100\n",
            "782/782 [==============================] - 22s 29ms/step - loss: 2.3016 - accuracy: 0.1041 - val_loss: 2.3003 - val_accuracy: 0.1089\n",
            "Epoch 2/100\n",
            "782/782 [==============================] - 22s 29ms/step - loss: 2.2990 - accuracy: 0.1285 - val_loss: 2.2975 - val_accuracy: 0.1533\n",
            "Epoch 3/100\n",
            "782/782 [==============================] - 23s 29ms/step - loss: 2.2955 - accuracy: 0.1584 - val_loss: 2.2931 - val_accuracy: 0.1574\n",
            "Epoch 4/100\n",
            "782/782 [==============================] - 22s 29ms/step - loss: 2.2894 - accuracy: 0.1626 - val_loss: 2.2845 - val_accuracy: 0.1611\n",
            "Epoch 5/100\n",
            "782/782 [==============================] - 22s 29ms/step - loss: 2.2748 - accuracy: 0.1598 - val_loss: 2.2606 - val_accuracy: 0.1598\n",
            "Epoch 6/100\n",
            "782/782 [==============================] - 22s 29ms/step - loss: 2.2243 - accuracy: 0.1670 - val_loss: 2.1628 - val_accuracy: 0.1834\n",
            "Epoch 7/100\n",
            "782/782 [==============================] - 23s 29ms/step - loss: 2.0786 - accuracy: 0.2362 - val_loss: 2.0119 - val_accuracy: 0.2690\n",
            "Epoch 8/100\n",
            "782/782 [==============================] - 23s 29ms/step - loss: 1.9913 - accuracy: 0.2752 - val_loss: 1.9556 - val_accuracy: 0.2971\n",
            "Epoch 9/100\n",
            "782/782 [==============================] - 22s 29ms/step - loss: 1.9509 - accuracy: 0.2962 - val_loss: 1.9193 - val_accuracy: 0.3117\n",
            "Epoch 10/100\n",
            "782/782 [==============================] - 22s 29ms/step - loss: 1.9174 - accuracy: 0.3103 - val_loss: 1.8898 - val_accuracy: 0.3300\n",
            "Epoch 11/100\n",
            "782/782 [==============================] - 23s 29ms/step - loss: 1.8818 - accuracy: 0.3283 - val_loss: 1.8499 - val_accuracy: 0.3423\n",
            "Epoch 12/100\n",
            "782/782 [==============================] - 23s 29ms/step - loss: 1.8433 - accuracy: 0.3445 - val_loss: 1.8116 - val_accuracy: 0.3596\n",
            "Epoch 13/100\n",
            "782/782 [==============================] - 23s 29ms/step - loss: 1.8053 - accuracy: 0.3581 - val_loss: 1.7667 - val_accuracy: 0.3758\n",
            "Epoch 14/100\n",
            "782/782 [==============================] - 23s 29ms/step - loss: 1.7677 - accuracy: 0.3717 - val_loss: 1.7264 - val_accuracy: 0.3925\n",
            "Epoch 15/100\n",
            "782/782 [==============================] - 23s 29ms/step - loss: 1.7305 - accuracy: 0.3857 - val_loss: 1.6949 - val_accuracy: 0.3992\n",
            "Epoch 16/100\n",
            "782/782 [==============================] - 23s 29ms/step - loss: 1.6966 - accuracy: 0.3961 - val_loss: 1.6465 - val_accuracy: 0.4179\n",
            "Epoch 17/100\n",
            "782/782 [==============================] - 23s 30ms/step - loss: 1.6605 - accuracy: 0.4109 - val_loss: 1.6089 - val_accuracy: 0.4354\n",
            "Epoch 18/100\n",
            "782/782 [==============================] - 23s 30ms/step - loss: 1.6236 - accuracy: 0.4256 - val_loss: 1.5831 - val_accuracy: 0.4441\n",
            "Epoch 19/100\n",
            "782/782 [==============================] - 24s 30ms/step - loss: 1.5896 - accuracy: 0.4349 - val_loss: 1.5420 - val_accuracy: 0.4528\n",
            "Epoch 20/100\n",
            "782/782 [==============================] - 24s 31ms/step - loss: 1.5621 - accuracy: 0.4425 - val_loss: 1.5220 - val_accuracy: 0.4613\n",
            "Epoch 21/100\n",
            "782/782 [==============================] - 24s 31ms/step - loss: 1.5378 - accuracy: 0.4537 - val_loss: 1.5019 - val_accuracy: 0.4672\n",
            "Epoch 22/100\n",
            "782/782 [==============================] - 24s 30ms/step - loss: 1.5161 - accuracy: 0.4600 - val_loss: 1.4763 - val_accuracy: 0.4749\n",
            "Epoch 23/100\n",
            "782/782 [==============================] - 24s 31ms/step - loss: 1.5035 - accuracy: 0.4648 - val_loss: 1.4435 - val_accuracy: 0.4891\n",
            "Epoch 24/100\n",
            "782/782 [==============================] - 24s 31ms/step - loss: 1.4794 - accuracy: 0.4745 - val_loss: 1.4204 - val_accuracy: 0.4954\n",
            "Epoch 25/100\n",
            "782/782 [==============================] - 24s 31ms/step - loss: 1.4707 - accuracy: 0.4773 - val_loss: 1.4224 - val_accuracy: 0.4940\n",
            "Epoch 26/100\n",
            "782/782 [==============================] - 24s 31ms/step - loss: 1.4506 - accuracy: 0.4850 - val_loss: 1.4048 - val_accuracy: 0.5039\n",
            "Epoch 27/100\n",
            "782/782 [==============================] - 24s 31ms/step - loss: 1.4364 - accuracy: 0.4918 - val_loss: 1.3904 - val_accuracy: 0.5051\n",
            "Epoch 28/100\n",
            "782/782 [==============================] - 24s 31ms/step - loss: 1.4274 - accuracy: 0.4925 - val_loss: 1.4081 - val_accuracy: 0.5065\n",
            "Epoch 29/100\n",
            "782/782 [==============================] - 24s 31ms/step - loss: 1.4121 - accuracy: 0.4999 - val_loss: 1.3683 - val_accuracy: 0.5154\n",
            "Epoch 30/100\n",
            "782/782 [==============================] - 24s 31ms/step - loss: 1.3996 - accuracy: 0.5037 - val_loss: 1.3869 - val_accuracy: 0.5091\n",
            "Epoch 31/100\n",
            "782/782 [==============================] - 25s 32ms/step - loss: 1.3896 - accuracy: 0.5095 - val_loss: 1.3524 - val_accuracy: 0.5203\n",
            "Epoch 32/100\n",
            "782/782 [==============================] - 24s 31ms/step - loss: 1.3709 - accuracy: 0.5163 - val_loss: 1.3456 - val_accuracy: 0.5261\n",
            "Epoch 33/100\n",
            "782/782 [==============================] - 24s 31ms/step - loss: 1.3670 - accuracy: 0.5165 - val_loss: 1.3299 - val_accuracy: 0.5282\n",
            "Epoch 34/100\n",
            "782/782 [==============================] - 25s 32ms/step - loss: 1.3558 - accuracy: 0.5206 - val_loss: 1.3165 - val_accuracy: 0.5435\n",
            "Epoch 35/100\n",
            "782/782 [==============================] - 24s 31ms/step - loss: 1.3421 - accuracy: 0.5287 - val_loss: 1.3027 - val_accuracy: 0.5392\n",
            "Epoch 36/100\n",
            "782/782 [==============================] - 24s 31ms/step - loss: 1.3345 - accuracy: 0.5289 - val_loss: 1.2980 - val_accuracy: 0.5420\n",
            "Epoch 37/100\n",
            "782/782 [==============================] - 25s 32ms/step - loss: 1.3218 - accuracy: 0.5336 - val_loss: 1.2875 - val_accuracy: 0.5451\n",
            "Epoch 38/100\n",
            "782/782 [==============================] - 25s 32ms/step - loss: 1.3134 - accuracy: 0.5371 - val_loss: 1.2755 - val_accuracy: 0.5482\n",
            "Epoch 39/100\n",
            "782/782 [==============================] - 24s 31ms/step - loss: 1.3048 - accuracy: 0.5407 - val_loss: 1.2741 - val_accuracy: 0.5532\n",
            "Epoch 40/100\n",
            "782/782 [==============================] - 24s 31ms/step - loss: 1.2989 - accuracy: 0.5445 - val_loss: 1.2797 - val_accuracy: 0.5438\n",
            "Epoch 41/100\n",
            "782/782 [==============================] - 24s 31ms/step - loss: 1.2864 - accuracy: 0.5478 - val_loss: 1.2680 - val_accuracy: 0.5527\n",
            "Epoch 42/100\n",
            "782/782 [==============================] - 23s 30ms/step - loss: 1.2719 - accuracy: 0.5535 - val_loss: 1.2631 - val_accuracy: 0.5561\n",
            "Epoch 43/100\n",
            "782/782 [==============================] - 24s 30ms/step - loss: 1.2700 - accuracy: 0.5535 - val_loss: 1.2543 - val_accuracy: 0.5595\n",
            "Epoch 44/100\n",
            "782/782 [==============================] - 23s 30ms/step - loss: 1.2610 - accuracy: 0.5563 - val_loss: 1.2294 - val_accuracy: 0.5690\n",
            "Epoch 45/100\n",
            "782/782 [==============================] - 23s 30ms/step - loss: 1.2511 - accuracy: 0.5622 - val_loss: 1.2265 - val_accuracy: 0.5647\n",
            "Epoch 46/100\n",
            "782/782 [==============================] - 23s 30ms/step - loss: 1.2481 - accuracy: 0.5605 - val_loss: 1.1990 - val_accuracy: 0.5790\n",
            "Epoch 47/100\n",
            "782/782 [==============================] - 24s 30ms/step - loss: 1.2353 - accuracy: 0.5656 - val_loss: 1.2198 - val_accuracy: 0.5670\n",
            "Epoch 48/100\n",
            "782/782 [==============================] - 23s 30ms/step - loss: 1.2259 - accuracy: 0.5697 - val_loss: 1.2166 - val_accuracy: 0.5705\n",
            "Epoch 49/100\n",
            "782/782 [==============================] - 23s 30ms/step - loss: 1.2169 - accuracy: 0.5740 - val_loss: 1.1909 - val_accuracy: 0.5835\n",
            "Epoch 50/100\n",
            "782/782 [==============================] - 23s 30ms/step - loss: 1.2111 - accuracy: 0.5754 - val_loss: 1.1758 - val_accuracy: 0.5866\n",
            "Epoch 51/100\n",
            "782/782 [==============================] - 23s 30ms/step - loss: 1.2005 - accuracy: 0.5787 - val_loss: 1.1916 - val_accuracy: 0.5796\n",
            "Epoch 52/100\n",
            "782/782 [==============================] - 23s 29ms/step - loss: 1.1941 - accuracy: 0.5830 - val_loss: 1.1758 - val_accuracy: 0.5834\n",
            "Epoch 53/100\n",
            "782/782 [==============================] - 23s 29ms/step - loss: 1.1877 - accuracy: 0.5860 - val_loss: 1.1967 - val_accuracy: 0.5789\n",
            "Epoch 54/100\n",
            "782/782 [==============================] - 23s 29ms/step - loss: 1.1803 - accuracy: 0.5893 - val_loss: 1.1563 - val_accuracy: 0.5949\n",
            "Epoch 55/100\n",
            "782/782 [==============================] - 23s 29ms/step - loss: 1.1707 - accuracy: 0.5907 - val_loss: 1.1844 - val_accuracy: 0.5858\n",
            "Epoch 56/100\n",
            "782/782 [==============================] - 23s 29ms/step - loss: 1.1667 - accuracy: 0.5925 - val_loss: 1.1438 - val_accuracy: 0.5952\n",
            "Epoch 57/100\n",
            "782/782 [==============================] - 23s 29ms/step - loss: 1.1560 - accuracy: 0.5986 - val_loss: 1.1370 - val_accuracy: 0.6023\n",
            "Epoch 58/100\n",
            "782/782 [==============================] - 23s 29ms/step - loss: 1.1520 - accuracy: 0.5975 - val_loss: 1.1272 - val_accuracy: 0.6027\n",
            "Epoch 59/100\n",
            "782/782 [==============================] - 23s 29ms/step - loss: 1.1420 - accuracy: 0.6004 - val_loss: 1.1581 - val_accuracy: 0.5909\n",
            "Epoch 60/100\n",
            "782/782 [==============================] - 23s 30ms/step - loss: 1.1362 - accuracy: 0.6046 - val_loss: 1.1210 - val_accuracy: 0.6082\n",
            "Epoch 61/100\n",
            "782/782 [==============================] - 23s 30ms/step - loss: 1.1276 - accuracy: 0.6069 - val_loss: 1.1261 - val_accuracy: 0.6027\n",
            "Epoch 62/100\n",
            "782/782 [==============================] - 23s 29ms/step - loss: 1.1226 - accuracy: 0.6078 - val_loss: 1.1059 - val_accuracy: 0.6108\n",
            "Epoch 63/100\n",
            "782/782 [==============================] - 23s 29ms/step - loss: 1.1211 - accuracy: 0.6090 - val_loss: 1.1110 - val_accuracy: 0.6058\n",
            "Epoch 64/100\n",
            "782/782 [==============================] - 23s 29ms/step - loss: 1.1148 - accuracy: 0.6126 - val_loss: 1.1000 - val_accuracy: 0.6131\n",
            "Epoch 65/100\n",
            "782/782 [==============================] - 23s 29ms/step - loss: 1.1034 - accuracy: 0.6149 - val_loss: 1.0976 - val_accuracy: 0.6103\n",
            "Epoch 66/100\n",
            "782/782 [==============================] - 23s 29ms/step - loss: 1.1005 - accuracy: 0.6172 - val_loss: 1.1003 - val_accuracy: 0.6147\n",
            "Epoch 67/100\n",
            "782/782 [==============================] - 23s 29ms/step - loss: 1.0922 - accuracy: 0.6200 - val_loss: 1.1096 - val_accuracy: 0.6110\n",
            "Epoch 68/100\n",
            "782/782 [==============================] - 23s 29ms/step - loss: 1.0879 - accuracy: 0.6210 - val_loss: 1.0900 - val_accuracy: 0.6180\n",
            "Epoch 69/100\n",
            "782/782 [==============================] - 23s 29ms/step - loss: 1.0806 - accuracy: 0.6259 - val_loss: 1.0704 - val_accuracy: 0.6248\n",
            "Epoch 70/100\n",
            "782/782 [==============================] - 23s 29ms/step - loss: 1.0766 - accuracy: 0.6275 - val_loss: 1.0729 - val_accuracy: 0.6225\n",
            "Epoch 71/100\n",
            "782/782 [==============================] - 23s 29ms/step - loss: 1.0711 - accuracy: 0.6273 - val_loss: 1.0801 - val_accuracy: 0.6215\n",
            "Epoch 72/100\n",
            "782/782 [==============================] - 23s 30ms/step - loss: 1.0654 - accuracy: 0.6305 - val_loss: 1.0764 - val_accuracy: 0.6179\n",
            "Epoch 73/100\n",
            "782/782 [==============================] - 23s 29ms/step - loss: 1.0559 - accuracy: 0.6341 - val_loss: 1.0733 - val_accuracy: 0.6255\n",
            "Epoch 74/100\n",
            "782/782 [==============================] - 23s 30ms/step - loss: 1.0543 - accuracy: 0.6335 - val_loss: 1.0616 - val_accuracy: 0.6237\n",
            "Epoch 75/100\n",
            "782/782 [==============================] - 23s 29ms/step - loss: 1.0471 - accuracy: 0.6386 - val_loss: 1.0646 - val_accuracy: 0.6263\n",
            "Epoch 76/100\n",
            "782/782 [==============================] - 23s 30ms/step - loss: 1.0414 - accuracy: 0.6397 - val_loss: 1.0502 - val_accuracy: 0.6325\n",
            "Epoch 77/100\n",
            "782/782 [==============================] - 23s 29ms/step - loss: 1.0351 - accuracy: 0.6411 - val_loss: 1.0325 - val_accuracy: 0.6390\n",
            "Epoch 78/100\n",
            "782/782 [==============================] - 23s 29ms/step - loss: 1.0284 - accuracy: 0.6434 - val_loss: 1.0472 - val_accuracy: 0.6294\n",
            "Epoch 79/100\n",
            "782/782 [==============================] - 23s 29ms/step - loss: 1.0221 - accuracy: 0.6454 - val_loss: 1.0486 - val_accuracy: 0.6330\n",
            "Epoch 80/100\n",
            "782/782 [==============================] - 23s 29ms/step - loss: 1.0178 - accuracy: 0.6479 - val_loss: 1.0346 - val_accuracy: 0.6431\n",
            "Epoch 81/100\n",
            "782/782 [==============================] - 23s 29ms/step - loss: 1.0151 - accuracy: 0.6465 - val_loss: 1.0319 - val_accuracy: 0.6409\n",
            "Epoch 82/100\n",
            "782/782 [==============================] - 23s 29ms/step - loss: 1.0065 - accuracy: 0.6492 - val_loss: 1.0534 - val_accuracy: 0.6284\n",
            "Epoch 83/100\n",
            "782/782 [==============================] - 23s 29ms/step - loss: 1.0032 - accuracy: 0.6528 - val_loss: 1.0407 - val_accuracy: 0.6346\n",
            "Epoch 84/100\n",
            "782/782 [==============================] - 23s 29ms/step - loss: 0.9920 - accuracy: 0.6553 - val_loss: 1.0360 - val_accuracy: 0.6384\n",
            "Epoch 85/100\n",
            "782/782 [==============================] - 23s 29ms/step - loss: 0.9925 - accuracy: 0.6554 - val_loss: 1.0273 - val_accuracy: 0.6376\n",
            "Epoch 86/100\n",
            "782/782 [==============================] - 23s 29ms/step - loss: 0.9836 - accuracy: 0.6584 - val_loss: 1.0596 - val_accuracy: 0.6320\n",
            "Epoch 87/100\n",
            "782/782 [==============================] - 23s 30ms/step - loss: 0.9799 - accuracy: 0.6607 - val_loss: 1.0201 - val_accuracy: 0.6460\n",
            "Epoch 88/100\n",
            "782/782 [==============================] - 23s 29ms/step - loss: 0.9795 - accuracy: 0.6607 - val_loss: 1.0069 - val_accuracy: 0.6456\n",
            "Epoch 89/100\n",
            "782/782 [==============================] - 23s 29ms/step - loss: 0.9727 - accuracy: 0.6618 - val_loss: 1.0039 - val_accuracy: 0.6488\n",
            "Epoch 90/100\n",
            "782/782 [==============================] - 23s 29ms/step - loss: 0.9687 - accuracy: 0.6636 - val_loss: 0.9980 - val_accuracy: 0.6524\n",
            "Epoch 91/100\n",
            "782/782 [==============================] - 23s 29ms/step - loss: 0.9603 - accuracy: 0.6692 - val_loss: 1.0546 - val_accuracy: 0.6290\n",
            "Epoch 92/100\n",
            "782/782 [==============================] - 23s 29ms/step - loss: 0.9580 - accuracy: 0.6664 - val_loss: 0.9875 - val_accuracy: 0.6534\n",
            "Epoch 93/100\n",
            "782/782 [==============================] - 23s 30ms/step - loss: 0.9507 - accuracy: 0.6704 - val_loss: 1.0040 - val_accuracy: 0.6417\n",
            "Epoch 94/100\n",
            "782/782 [==============================] - 23s 29ms/step - loss: 0.9500 - accuracy: 0.6714 - val_loss: 0.9926 - val_accuracy: 0.6551\n",
            "Epoch 95/100\n",
            "782/782 [==============================] - 23s 29ms/step - loss: 0.9412 - accuracy: 0.6748 - val_loss: 0.9785 - val_accuracy: 0.6591\n",
            "Epoch 96/100\n",
            "782/782 [==============================] - 23s 29ms/step - loss: 0.9402 - accuracy: 0.6740 - val_loss: 0.9816 - val_accuracy: 0.6573\n",
            "Epoch 97/100\n",
            "782/782 [==============================] - 23s 29ms/step - loss: 0.9306 - accuracy: 0.6780 - val_loss: 0.9762 - val_accuracy: 0.6650\n",
            "Epoch 98/100\n",
            "782/782 [==============================] - 23s 29ms/step - loss: 0.9304 - accuracy: 0.6792 - val_loss: 1.0058 - val_accuracy: 0.6516\n",
            "Epoch 99/100\n",
            "782/782 [==============================] - 23s 29ms/step - loss: 0.9221 - accuracy: 0.6806 - val_loss: 0.9935 - val_accuracy: 0.6509\n",
            "Epoch 100/100\n",
            "782/782 [==============================] - 23s 29ms/step - loss: 0.9180 - accuracy: 0.6798 - val_loss: 1.0154 - val_accuracy: 0.6484\n"
          ],
          "name": "stdout"
        }
      ]
    },
    {
      "cell_type": "code",
      "metadata": {
        "id": "RAiap0_7-erL"
      },
      "source": [
        "import matplotlib.pyplot as plt\n",
        "def plot_history(model_name, history):\n",
        "    plt.figure(figsize=(8,8))\n",
        "    plt.subplot(211)\n",
        "    plt.title('Cross Entropy Loss', fontsize=14)\n",
        "    plt.plot(history['loss'], color='dodgerblue', label='train')\n",
        "    plt.plot(history['val_loss'], color='darkorange', label='test')\n",
        "    plt.xlabel('Epochs', fontsize=12)\n",
        "    plt.legend()\n",
        "    plt.subplot(212)\n",
        "    plt.title('Classification Accuracy', fontsize=14)\n",
        "    plt.plot(history['accuracy'], color='dodgerblue', label='train')\n",
        "    plt.plot(history['val_accuracy'], color='darkorange', label='test')\n",
        "    plt.xlabel('Epochs', fontsize=12)\n",
        "    plt.tight_layout()\n",
        "    plt.legend()\n",
        "    plt.savefig(f'./model/{model_name}_plot.png')\n",
        "    plt.show()"
      ],
      "execution_count": null,
      "outputs": []
    },
    {
      "cell_type": "code",
      "metadata": {
        "id": "PcXnzYSsjUhI",
        "outputId": "ccb02a55-0420-44cc-ebf8-c0224cfcc100",
        "colab": {
          "base_uri": "https://localhost:8080/",
          "height": 34
        }
      },
      "source": [
        "print(model_name)"
      ],
      "execution_count": null,
      "outputs": [
        {
          "output_type": "stream",
          "text": [
            "cifar10_vgg8_model_dropout_batchnrom_ep400_bcj\n"
          ],
          "name": "stdout"
        }
      ]
    },
    {
      "cell_type": "code",
      "metadata": {
        "id": "W-F9OeYf-2i1",
        "outputId": "b96398b0-316b-4053-cc24-478da9e5054a",
        "colab": {
          "base_uri": "https://localhost:8080/"
        }
      },
      "source": [
        "plot_history(model_name, hist)"
      ],
      "execution_count": null,
      "outputs": [
        {
          "output_type": "display_data",
          "data": {
            "image/png": "[encoded data removed]",
            "text/plain": [
              "<Figure size 576x576 with 2 Axes>"
            ]
          },
          "metadata": {
            "tags": [],
            "needs_background": "light"
          }
        }
      ]
    },
    {
      "cell_type": "code",
      "metadata": {
        "id": "Vx7KCYIy9vHI",
        "outputId": "5c84fc76-542d-4ad0-e1de-bb08fd67ca20",
        "colab": {
          "base_uri": "https://localhost:8080/"
        }
      },
      "source": [
        "! pwd"
      ],
      "execution_count": null,
      "outputs": [
        {
          "output_type": "stream",
          "text": [
            "/content/gdrive/My Drive/bcj_projects/cifar-vgg\n"
          ],
          "name": "stdout"
        }
      ]
    },
    {
      "cell_type": "code",
      "metadata": {
        "id": "1oFUvGMP-NU8"
      },
      "source": [
        "hist.to_csv(f'./model/{model_name}.csv', index=False)"
      ],
      "execution_count": null,
      "outputs": []
    },
    {
      "cell_type": "code",
      "metadata": {
        "id": "Tbr-kNfUnUEn"
      },
      "source": [
        "model.save(f'./model/{model_name}.h5')"
      ],
      "execution_count": null,
      "outputs": []
    },
    {
      "cell_type": "code",
      "metadata": {
        "id": "f5f1EHIE-KZf"
      },
      "source": [
        ""
      ],
      "execution_count": null,
      "outputs": []
    }
  ]
}